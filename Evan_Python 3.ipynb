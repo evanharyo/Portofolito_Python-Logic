{
 "cells": [
  {
   "cell_type": "code",
   "execution_count": 36,
   "metadata": {},
   "outputs": [],
   "source": [
    "import numpy as np #import modul numpy\n",
    "def matriks_ajaib(x):\n",
    "    n = len(x)\n",
    "    m = (n,n)\n",
    "    A = np.zeros(m) #matriks 0 n*n\n",
    "    for i in range (n):\n",
    "        for j in range (n):\n",
    "            if i<j: #untuk entri dengan i<j\n",
    "                A[i][j] = x[i] - x[j]\n",
    "            if i>j: # untuk entri dengan i>j\n",
    "                A[i][j] = x[i] + x[j]\n",
    "    for i in range(n):\n",
    "        for j in range(n):\n",
    "            if i == j:\n",
    "                sub_A = np.delete(A,i,0) #hapus baris ke i\n",
    "                sub_A = np.delete(sub_A,j,1) #hapus kolom ke j\n",
    "                np.fill_diagonal(sub_A, 1) #mengisi diagonal dengan 1\n",
    "                M_ij = round(np.linalg.det(sub_A)) #cari determinan\n",
    "                A[i][j] = M_ij\n",
    "    return A\n",
    "    \n",
    "    "
   ]
  },
  {
   "cell_type": "code",
   "execution_count": 37,
   "metadata": {},
   "outputs": [
    {
     "data": {
      "text/plain": [
       "array([[-1.68557e+05, -1.00000e+00, -2.00000e+00, -3.00000e+00,\n",
       "        -4.00000e+00, -5.00000e+00],\n",
       "       [ 1.10000e+01, -1.90639e+05, -1.00000e+00, -2.00000e+00,\n",
       "        -3.00000e+00, -4.00000e+00],\n",
       "       [ 1.20000e+01,  1.30000e+01, -1.55383e+05, -1.00000e+00,\n",
       "        -2.00000e+00, -3.00000e+00],\n",
       "       [ 1.30000e+01,  1.40000e+01,  1.50000e+01, -1.34433e+05,\n",
       "        -1.00000e+00, -2.00000e+00],\n",
       "       [ 1.40000e+01,  1.50000e+01,  1.60000e+01,  1.70000e+01,\n",
       "        -1.19389e+05, -1.00000e+00],\n",
       "       [ 1.50000e+01,  1.60000e+01,  1.70000e+01,  1.80000e+01,\n",
       "         1.90000e+01, -9.15110e+04]])"
      ]
     },
     "execution_count": 37,
     "metadata": {},
     "output_type": "execute_result"
    }
   ],
   "source": [
    "matriks_ajaib([5,6,7,8,9,10])"
   ]
  },
  {
   "cell_type": "code",
   "execution_count": 38,
   "metadata": {},
   "outputs": [
    {
     "data": {
      "text/plain": [
       "array([[-39.,  -1.,  -2.,  -3.],\n",
       "       [  3., -43.,  -1.,  -2.],\n",
       "       [  4.,   5., -13.,  -1.],\n",
       "       [  5.,   6.,   7.,  -9.]])"
      ]
     },
     "execution_count": 38,
     "metadata": {},
     "output_type": "execute_result"
    }
   ],
   "source": [
    "matriks_ajaib([1,2,3,4])"
   ]
  },
  {
   "cell_type": "markdown",
   "metadata": {},
   "source": [
    "algoritma diatas di buat berdasarkan:\n",
    "1. Diberikan array berisi bilangan bulat [a, b, c, ….] dengan panjang n\n",
    "2. Buat suatu matriks nol bernama A dengan ukuran 𝑛 × 𝑛\n",
    "3. Untuk entri 𝑎𝑖𝑗 pada matriks A dengan 𝑖 < 𝑗, berikan nilai berupa elemen array ke-i\n",
    "dikurang elemen array ke-j\n",
    "4. Untuk entri 𝑎𝑖𝑗 pada matriks A dengan 𝑖 > 𝑗, berikan nilai berupa elemen array ke-i\n",
    "ditambah elemen array ke-j\n",
    "Setelah mendapatkan suatu matriks A dari aturan di atas, diagonal utamanya dengan aturannya untuk 𝑎𝑖𝑖 sebagai berikut:\n",
    "1. Buat suatu submatriks dari A dengan menghilangkan semua entri baris-i dan kolom-i\n",
    "2. Isi diagonal utama submatriks yang terbentuk dengan nilai 1\n",
    "3. Nilai entri 𝑎𝑖𝑖 dari matriks A adalah determinan dari submatriks yang terbentuk\n",
    "\n",
    "penjelasan algoritma\n",
    "-mengimport numpy untuk memenuhi syarat program di bagian submatriks\n",
    "-buat matriks_ajaib sebagai fungsi\n",
    "-gunakan for untuk mengulang program sebanyak yang diinginkan \n",
    "-gunakan if untuk entri matriks ij bila i<j maka kurangi nilai dari indeks i ke j \n",
    "-gunakan if untuk entri matriks ij bila i>j maka tambah nilai indeks i ke j\n",
    "-buat matriks ij jadi submatriks\n",
    "-hapus baris ke i dan kolom ke j, lalu mengisi diagonal dengan 1, lalu cari determinan\n",
    "-return untuk mengeluarkan hasil\n",
    "    \n",
    "                                         "
   ]
  }
 ],
 "metadata": {
  "kernelspec": {
   "display_name": "Python 3",
   "language": "python",
   "name": "python3"
  },
  "language_info": {
   "codemirror_mode": {
    "name": "ipython",
    "version": 3
   },
   "file_extension": ".py",
   "mimetype": "text/x-python",
   "name": "python",
   "nbconvert_exporter": "python",
   "pygments_lexer": "ipython3",
   "version": "3.8.8"
  }
 },
 "nbformat": 4,
 "nbformat_minor": 4
}
