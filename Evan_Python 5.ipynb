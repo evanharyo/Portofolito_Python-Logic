{
 "cells": [
  {
   "cell_type": "code",
   "execution_count": 3,
   "metadata": {},
   "outputs": [
    {
     "name": "stdout",
     "output_type": "stream",
     "text": [
      "Selamat datang di program corat coret\n",
      "Ini ada papan corat coret kosong\n"
     ]
    },
    {
     "data": {
      "image/png": "[encoded data removed]",
      "text/plain": [
       "<Figure size 432x288 with 1 Axes>"
      ]
     },
     "metadata": {
      "needs_background": "light"
     },
     "output_type": "display_data"
    },
    {
     "name": "stdout",
     "output_type": "stream",
     "text": [
      "Isi dengan titik koordinat ya\n",
      "1. untuk tambahkan titik\n",
      "2. untuk lihat hasil coretan\n",
      "3. untuk hapus semua coretan\n",
      "4. untuk menghentikan program\n",
      "Masukkan pilihan anda: 1\n",
      "pilih: 1\n",
      "Masukkan titik x: -1,-4,-4,-1,-4,-4,0,2,4,3,1\n",
      "Masukkan titik y: 4,4,0,0,0,-4,-4,4,-4,0,0\n",
      "Masukkan pilihan anda: 2\n",
      "pilih: 2\n"
     ]
    },
    {
     "data": {
      "image/png": "[encoded data removed]",
      "text/plain": [
       "<Figure size 432x288 with 1 Axes>"
      ]
     },
     "metadata": {
      "needs_background": "light"
     },
     "output_type": "display_data"
    },
    {
     "name": "stdout",
     "output_type": "stream",
     "text": [
      "Masukkan pilihan anda: 1\n",
      "pilih: 1\n",
      "Masukkan titik x: 0,-1,-0.5,0,0.5,1,0\n",
      "Masukkan titik y:  0,2,3,2,3,2,0\n",
      "Masukkan pilihan anda: 2\n",
      "pilih: 2\n"
     ]
    },
    {
     "data": {
      "image/png": "[encoded data removed]",
      "text/plain": [
       "<Figure size 432x288 with 1 Axes>"
      ]
     },
     "metadata": {
      "needs_background": "light"
     },
     "output_type": "display_data"
    },
    {
     "name": "stdout",
     "output_type": "stream",
     "text": [
      "Masukkan pilihan anda: 4\n",
      "pilih: 4\n",
      "TERIMA KASIH TELAH BERMAIN\n"
     ]
    }
   ],
   "source": [
    "import matplotlib.pyplot as plt\n",
    "\n",
    "print('Selamat datang di program corat coret') #print kata2 sambutan\n",
    "print('Ini ada papan corat coret kosong')\n",
    "plt.xlim(-5,5) #plot di koordinat dengan limit yang ditentukan\n",
    "plt.ylim(-5,5)\n",
    "plt.show()\n",
    "print(\"Isi dengan titik koordinat ya\") #print peraturan dan cara bermain\n",
    "print(\"1. untuk tambahkan titik\")\n",
    "print(\"2. untuk lihat hasil coretan\")\n",
    "print(\"3. untuk hapus semua coretan\")\n",
    "print(\"4. untuk menghentikan program\")\n",
    "\n",
    "i = 0\n",
    "x = []\n",
    "y = []\n",
    "while True:\n",
    "    pilihan = int(input('Masukkan pilihan anda: ')) #memasukkan pilihan\n",
    "    if pilihan == 1:\n",
    "        print('pilih: 1')\n",
    "        x.append(eval(input('Masukkan titik x: '))) #memasukkan koordinat x dan y yang diinginkan\n",
    "        y.append(eval(input('Masukkan titik y: ')))\n",
    "        i = i + 1\n",
    "    if pilihan == 2:\n",
    "        print('pilih: 2')\n",
    "        plt.xlim(-5,5)\n",
    "        plt.ylim(-5,5)\n",
    "        for j in range(len(x)):\n",
    "            plt.plot(x[j],y[j]) #plot titik yang sudah kita tentukan sebelumnya\n",
    "        plt.show()\n",
    "    if pilihan == 3:\n",
    "        print('pilih: 3')\n",
    "        plt.xlim(-5,5)\n",
    "        plt.ylim(-5,5)\n",
    "        x = [] #mengosongkan kembali koordinat\n",
    "        y = []\n",
    "        plt.plot(x,y) #membuat koordinat yang bersih lagi\n",
    "        plt.show()\n",
    "    if pilihan == 4:\n",
    "        print('pilih: 4')\n",
    "        print('TERIMA KASIH TELAH BERMAIN')\n",
    "        break #menyatakan bahwa telah selesai\n",
    "        \n",
    "        \n",
    "    "
   ]
  },
  {
   "cell_type": "markdown",
   "metadata": {},
   "source": [
    "Program akan meminta secara terus menerus pilihan kalian :\n",
    "- Jika pilihan kalian adalah 1, maka program akan meminta koordinat-koordinat sumbu x\n",
    "dan sumbu y yang kalian inginkan.\n",
    "- Jika pilihan kalian adalah 2, maka coretan kalian akan muncul dalam bentuk grafik.\n",
    "- Jika pilihan kalian adalah 3, maka seluruh coretan yang telah diinput akan dihapus.\n",
    "- Jika pilihan kalian adalah 4, maka program akan berhenti.\n",
    "\n",
    "untuk algoritmanya,\n",
    "-pertama import matplotlib.pyplot agar bisa membuat plot\n",
    "-memunculkan semua sambutan dan peraturan dengan print\n",
    "- membuat list kosong untung diisi koordinatnya yaitu x dan y\n",
    "-menggunakan while agar terus berjalan\n",
    "-gunakan if untuk membuat sebuah kondisi yang membuat program berjalan\n",
    "-buat 4 pilihan sesuai di soal\n",
    "-jika pilih 1 maka kita harus memasukan nilai koordinat x dam y yang diinginkan\n",
    "-jika pilih 2 maka pilihan koordinat x y kita akan di cek dan di plot di grafik\n",
    "-jika pilih 3 semua nilai yang telah di input kembali ke reset\n",
    "-jika pilih 4 maka program akan selesa\n",
    "-break di akhir digunakan untuk menghentikan program bila sudah mencapai 4\n"
   ]
  },
  {
   "cell_type": "code",
   "execution_count": null,
   "metadata": {},
   "outputs": [],
   "source": []
  }
 ],
 "metadata": {
  "kernelspec": {
   "display_name": "Python 3",
   "language": "python",
   "name": "python3"
  },
  "language_info": {
   "codemirror_mode": {
    "name": "ipython",
    "version": 3
   },
   "file_extension": ".py",
   "mimetype": "text/x-python",
   "name": "python",
   "nbconvert_exporter": "python",
   "pygments_lexer": "ipython3",
   "version": "3.8.8"
  }
 },
 "nbformat": 4,
 "nbformat_minor": 4
}
