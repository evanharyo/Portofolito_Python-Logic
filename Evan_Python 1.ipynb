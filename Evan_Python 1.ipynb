{
 "cells": [
  {
   "cell_type": "code",
   "execution_count": 33,
   "metadata": {},
   "outputs": [],
   "source": [
    "def passwordchecker (pc):\n",
    "    syarat = []\n",
    "    if len(pc) < 8 or len (pc) > 32: #cek panjang password\n",
    "        syarat.append(1)\n",
    "    if any (character.isupper() for character in pc) == False: #cek syarat yaitu huruf kapital\n",
    "        syarat.append(2)\n",
    "    if any (character.islower() for character in pc) == False: #cek syarat yaitu huruf kecil\n",
    "        syarat.append(3)\n",
    "    if any (character.isnumeric() for character in pc) == False: #cek syarat keberadaan angka\n",
    "        syarat.append(4)\n",
    "    if len(set(pc)) - len(pc) != 0: #cek syarat paling banyak 2 karakter berurutan sama\n",
    "        for i in range (len(pc) - 1):\n",
    "            if pc[i + 1] == pc[i] ==pc[i-1]:\n",
    "                syarat.append(5)\n",
    "                break\n",
    "    order = ['012', '123', '234', '345', '456', '567', '678', '789'] #membuat list 3 angka berurutan\n",
    "    for i in order: #cek 2 angka berurutan\n",
    "        if i in pc:\n",
    "            syarat.append(6)\n",
    "            break\n",
    "            \n",
    "    if len(syarat) == 0:\n",
    "        return 0\n",
    "    else:\n",
    "        return (1,syarat)\n",
    "    "
   ]
  },
  {
   "cell_type": "code",
   "execution_count": 35,
   "metadata": {},
   "outputs": [
    {
     "data": {
      "text/plain": [
       "(1, [1, 2, 3])"
      ]
     },
     "execution_count": 35,
     "metadata": {},
     "output_type": "execute_result"
    }
   ],
   "source": [
    "passwordchecker(\"2\")"
   ]
  },
  {
   "cell_type": "code",
   "execution_count": 38,
   "metadata": {},
   "outputs": [
    {
     "data": {
      "text/plain": [
       "(1, [1, 2])"
      ]
     },
     "execution_count": 38,
     "metadata": {},
     "output_type": "execute_result"
    }
   ],
   "source": [
    "passwordchecker(\"ee23\")"
   ]
  },
  {
   "cell_type": "code",
   "execution_count": 39,
   "metadata": {},
   "outputs": [
    {
     "data": {
      "text/plain": [
       "(1, [6])"
      ]
     },
     "execution_count": 39,
     "metadata": {},
     "output_type": "execute_result"
    }
   ],
   "source": [
    "passwordchecker(\"Afgt221103789\")"
   ]
  },
  {
   "cell_type": "code",
   "execution_count": 40,
   "metadata": {},
   "outputs": [
    {
     "data": {
      "text/plain": [
       "(1, [2, 3, 5])"
      ]
     },
     "execution_count": 40,
     "metadata": {},
     "output_type": "execute_result"
    }
   ],
   "source": [
    "passwordchecker(\"222110369\")"
   ]
  },
  {
   "cell_type": "markdown",
   "metadata": {},
   "source": [
    "algoritma diatas bertujuan untuk mengecek apakah password sudah cukup kuat atau belum dengan beberapa syarat ketentuan yang dimana bila ketentuan tidak terpenuhi maka akan di beritahukan pada outputnya tentang syarat apa saja yang belum terpenuhi. Syarat yang diminta adalah\n",
    "memiliki 8-32 karakter, \n",
    "ada setidaknya satu huruf kapital,\n",
    "satu huruf kecil, \n",
    "1 angka, \n",
    "paling banyak 2 karakter berurutan yang sama, dan \n",
    "paling banyak 2 angka berurutan.\n",
    "\n",
    "penjelasan algoritma\n",
    "-jadikan passwordchecker sebuah fungsi\n",
    "-buat array syarat kosong untuk diisi ketentuan yang tidak terpenuhi\n",
    "-cek panjang password, bila tidak sesuai makaakan di tambahkan 1 ke syarat\n",
    "-cek keberadaan huruf kapital, bila tidak ada maka akan ditambahkan 2 ke syarat\n",
    "-cek keberadaan huruf kecil, bila tidak ada maka akan ditambahkan 3 ke syarat\n",
    "-cek keberadaan angka,bila tidak ada maka tambahkan 4 ke syarat\n",
    "-cek apakah ada lebih dari 2 karakter berurutan sama, bila iya tambahkan 5 ke syarat\n",
    "-buat list order untuk membuat 3 angka berurutan\n",
    "-cek apakah ada lebih dari 2 angka berurutan, bila iya tambahkan 6 ke syarat\n",
    "- jika semua benar maka akan mengeluarkan 0\n",
    "- jika terdapat yang kurang maka akan mengeluarkan 1"
   ]
  }
 ],
 "metadata": {
  "kernelspec": {
   "display_name": "Python 3",
   "language": "python",
   "name": "python3"
  },
  "language_info": {
   "codemirror_mode": {
    "name": "ipython",
    "version": 3
   },
   "file_extension": ".py",
   "mimetype": "text/x-python",
   "name": "python",
   "nbconvert_exporter": "python",
   "pygments_lexer": "ipython3",
   "version": "3.8.8"
  }
 },
 "nbformat": 4,
 "nbformat_minor": 4
}
