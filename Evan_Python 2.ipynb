{
 "cells": [
  {
   "cell_type": "code",
   "execution_count": 125,
   "metadata": {},
   "outputs": [],
   "source": [
    "import random as rd\n",
    "#x = banyak salak\n",
    "#y = banyak percobaan\n",
    "#z = opsi\n",
    "def makansalak(x,y,z):  #membuat fungsi makan salak\n",
    "    save = []\n",
    "    total = 0\n",
    "    for a in range (y): \n",
    "        if z == 2:\n",
    "            print('percobaan', a + 1, ':')\n",
    "            print('------')\n",
    "        hari = 1\n",
    "        salak = x\n",
    "        while salak > 0: #berjalan saat banyak salaknya lebih dari 0\n",
    "            s = rd.randint(0,1) #mengambil kemungkinan acak dari random untuk menentukan langkah mana dalam makan salak\n",
    "            if s == 0:\n",
    "                salak = salak - 1\n",
    "                m = 1\n",
    "            if s == 1:  #tersisa k salak pada hari itu\n",
    "                if salak % 2 == 0: #saat k genap, makan [k/4] salak\n",
    "                    m = salak//4\n",
    "                    salak = salak - m\n",
    "                if salak % 2 == 1: #saat k ganjil, makan [k/5]+1 salak\n",
    "                    m = (salak//5) + 1\n",
    "                    salak = salak - m\n",
    "            if z == 2:\n",
    "                print('hari ke', hari, 'makan', m, 'salak')\n",
    "            hari = hari + 1\n",
    "        save.append(hari - 1)\n",
    "        total = save[a] + total\n",
    "    return 'rata rata hari: ' + str(total/y) #menghitung rata2 nya"
   ]
  },
  {
   "cell_type": "code",
   "execution_count": 126,
   "metadata": {},
   "outputs": [
    {
     "name": "stdout",
     "output_type": "stream",
     "text": [
      "percobaan 1 :\n",
      "------\n",
      "hari ke 1 makan 2 salak\n",
      "hari ke 2 makan 1 salak\n",
      "hari ke 3 makan 1 salak\n",
      "hari ke 4 makan 1 salak\n",
      "hari ke 5 makan 0 salak\n",
      "hari ke 6 makan 0 salak\n",
      "hari ke 7 makan 1 salak\n",
      "hari ke 8 makan 1 salak\n",
      "percobaan 2 :\n",
      "------\n",
      "hari ke 1 makan 2 salak\n",
      "hari ke 2 makan 2 salak\n",
      "hari ke 3 makan 1 salak\n",
      "hari ke 4 makan 0 salak\n",
      "hari ke 5 makan 0 salak\n",
      "hari ke 6 makan 1 salak\n",
      "hari ke 7 makan 1 salak\n",
      "percobaan 3 :\n",
      "------\n",
      "hari ke 1 makan 2 salak\n",
      "hari ke 2 makan 2 salak\n",
      "hari ke 3 makan 1 salak\n",
      "hari ke 4 makan 0 salak\n",
      "hari ke 5 makan 1 salak\n",
      "hari ke 6 makan 1 salak\n"
     ]
    },
    {
     "data": {
      "text/plain": [
       "'rata rata hari: 7.0'"
      ]
     },
     "execution_count": 126,
     "metadata": {},
     "output_type": "execute_result"
    }
   ],
   "source": [
    "makansalak(7,3,2)"
   ]
  },
  {
   "cell_type": "code",
   "execution_count": 127,
   "metadata": {},
   "outputs": [
    {
     "data": {
      "text/plain": [
       "'rata rata hari: 6.0'"
      ]
     },
     "execution_count": 127,
     "metadata": {},
     "output_type": "execute_result"
    }
   ],
   "source": [
    "makansalak(7,6,1)"
   ]
  },
  {
   "cell_type": "code",
   "execution_count": 129,
   "metadata": {},
   "outputs": [
    {
     "data": {
      "text/plain": [
       "'rata rata hari: 5.5'"
      ]
     },
     "execution_count": 129,
     "metadata": {},
     "output_type": "execute_result"
    }
   ],
   "source": [
    "makansalak(5,4,1)"
   ]
  },
  {
   "cell_type": "code",
   "execution_count": 130,
   "metadata": {},
   "outputs": [
    {
     "name": "stdout",
     "output_type": "stream",
     "text": [
      "percobaan 1 :\n",
      "------\n",
      "hari ke 1 makan 2 salak\n",
      "hari ke 2 makan 1 salak\n",
      "hari ke 3 makan 1 salak\n",
      "hari ke 4 makan 1 salak\n",
      "percobaan 2 :\n",
      "------\n",
      "hari ke 1 makan 2 salak\n",
      "hari ke 2 makan 1 salak\n",
      "hari ke 3 makan 0 salak\n",
      "hari ke 4 makan 1 salak\n",
      "hari ke 5 makan 1 salak\n",
      "percobaan 3 :\n",
      "------\n",
      "hari ke 1 makan 1 salak\n",
      "hari ke 2 makan 1 salak\n",
      "hari ke 3 makan 1 salak\n",
      "hari ke 4 makan 1 salak\n",
      "percobaan 4 :\n",
      "------\n",
      "hari ke 1 makan 1 salak\n",
      "hari ke 2 makan 1 salak\n",
      "hari ke 3 makan 0 salak\n",
      "hari ke 4 makan 0 salak\n",
      "hari ke 5 makan 0 salak\n",
      "hari ke 6 makan 0 salak\n",
      "hari ke 7 makan 0 salak\n",
      "hari ke 8 makan 1 salak\n",
      "hari ke 9 makan 1 salak\n",
      "percobaan 5 :\n",
      "------\n",
      "hari ke 1 makan 2 salak\n",
      "hari ke 2 makan 1 salak\n",
      "hari ke 3 makan 1 salak\n",
      "hari ke 4 makan 1 salak\n"
     ]
    },
    {
     "data": {
      "text/plain": [
       "'rata rata hari: 5.2'"
      ]
     },
     "execution_count": 130,
     "metadata": {},
     "output_type": "execute_result"
    }
   ],
   "source": [
    "makansalak(5,5,2)"
   ]
  },
  {
   "cell_type": "markdown",
   "metadata": {},
   "source": [
    "algoritma diatas digunakan untuk melihat rata rata waktu berapa lama yang dibutuhkan seseorang untuk menghabiskan salak sejumlah n dengan ketentuan  hanya dapat melakukan satu dari dua aktivitas berikut secara acak dengan probabilitas sama besar:\n",
    "1. Makan 1 salak\n",
    "2. Pada hari tersebut tersisa k salak\n",
    "    a. Jika k adalah bilangan genap, maka makan ⌊𝑘/4⌋ buah salak\n",
    "    b. Jika k adalah bilangan ganjil, maka makan ⌊𝑘/5⌋ + 1 buah salak\n",
    "    \n",
    "Buatlah sebuah fungsi bernama makansalak. makansalak menerima 3(tiga) buah argumen\n",
    "yaitu:\n",
    "1. Banyak salak yang dimiliki\n",
    "2. Banyak percobaan yang ingin dilakukan\n",
    "3. Opsi untuk menampilkan proses atau tidak (1 untuk menampilkan dan 2 untuk tidak\n",
    "menampilkan)\n",
    "\n",
    "penjelasan algoritma:\n",
    "-mengimport random untuk memilih acak\n",
    "-jadikan makansalak sebuah fungsi\n",
    "-misalkan x,y,z untuk mempersingkat penulisan\n",
    "-buat makansalak jadi fungsi\n",
    "-buat for in range untuk membuat pengulangan sepanjang banyaknya percobaan\n",
    "-gunakan if untuk mengeluarkan kalimat \"percobaan..\" bila syarat opsi=2 terpenuhi\n",
    "-gunakal while agar program terulang sampai jumlah salak habis\n",
    "-gunakan random untuk memilih secara acak 2 kemungkinan seperti yang diminta di soal\n",
    "-gunakan if yaitu bila mengeluarkan angka 0 maka dapat disimpulkan makan 1 salak\n",
    "-gunakan if yaitu bila keluar angka 1 maka akan ke ketentuan, Jika k adalah bilangan genap, maka makan ⌊𝑘/4⌋ buah salak dan Jika k adalah bilangan ganjil, maka makan ⌊𝑘/5⌋ + 1 buah salak untuk k sebagai sisa buah\n",
    "- gunakan if untuk memberi syarat print kalimat hari ke _ makan _ salak\n",
    "-gunakan return untuk mengeluarkan hasil rata-rata"
   ]
  },
  {
   "cell_type": "code",
   "execution_count": null,
   "metadata": {},
   "outputs": [],
   "source": []
  }
 ],
 "metadata": {
  "kernelspec": {
   "display_name": "Python 3",
   "language": "python",
   "name": "python3"
  },
  "language_info": {
   "codemirror_mode": {
    "name": "ipython",
    "version": 3
   },
   "file_extension": ".py",
   "mimetype": "text/x-python",
   "name": "python",
   "nbconvert_exporter": "python",
   "pygments_lexer": "ipython3",
   "version": "3.8.8"
  }
 },
 "nbformat": 4,
 "nbformat_minor": 4
}
