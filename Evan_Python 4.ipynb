{
 "cells": [
  {
   "cell_type": "code",
   "execution_count": 5,
   "metadata": {},
   "outputs": [
    {
     "name": "stdout",
     "output_type": "stream",
     "text": [
      "Masukkan jumlah digit: 1\n",
      "Masukkan jumlah nyawa: 9\n",
      "Masukkan 1 digit angka: 45\n",
      "Jumlah digit harus 1\n",
      "1 angka benar 1 di posisi yang benar\n",
      "sisa nyawa: 8\n",
      "Masukkan 1 digit angka: g\n",
      "tebakan harus angka\n",
      "0 angka benar 0 di posisi yang benar\n",
      "sisa nyawa: 7\n",
      "Masukkan 1 digit angka: 1\n",
      "0 angka benar 0 di posisi yang benar\n",
      "sisa nyawa: 6\n",
      "Masukkan 1 digit angka: 2\n",
      "0 angka benar 0 di posisi yang benar\n",
      "sisa nyawa: 5\n",
      "Masukkan 1 digit angka: 3\n",
      "0 angka benar 0 di posisi yang benar\n",
      "sisa nyawa: 4\n",
      "Masukkan 1 digit angka: 4\n",
      "Selamat tebakan anda benar\n",
      "Kamu selesai dalam 6 percobaan\n",
      "sisa nyawa kamu 3\n"
     ]
    }
   ],
   "source": [
    "import random as rd\n",
    "d = int(input('Masukkan jumlah digit: '))\n",
    "n = int(input('Masukkan jumlah nyawa: '))\n",
    "pertama = 10**(d-1) #bil. pertama dgn jumlah digit d\n",
    "terakhir = (10**d)-1 #bil. terakhir dgn jumlah digit d\n",
    "jawab = rd.randint(pertama,terakhir) #membuat bil. secara acak\n",
    "x = str(jawab) #ubah angka ke string\n",
    "percobaan = 0\n",
    "kj = [] #list jawaban\n",
    "\n",
    "\n",
    "for i in x:\n",
    "    kj.append(i) #masukkan jawaban ke list kj\n",
    "while True and n>0:\n",
    "    tebakan = input(f'Masukkan {d} digit angka: ') #masukkan tebakan\n",
    "    percobaan = percobaan + 1\n",
    "    posisi = 0\n",
    "    nomor = 0\n",
    "    isi = []\n",
    "    for i in tebakan: #masukkan tebakan ke list isi\n",
    "        isi.append(i)\n",
    "    if len(isi)!= len(kj): #mengingatkan saat digit tebakan tidak sama dengan kunci\n",
    "        print('Jumlah digit harus', d)\n",
    "    if tebakan.isdigit() == False: #mengingatkan kalau ada huruf di tebakan\n",
    "        print(\"tebakan harus angka\")\n",
    "    if tebakan == x: #tebakan saat benar\n",
    "        print('Selamat tebakan anda benar')\n",
    "        print('Kamu selesai dalam',percobaan,'percobaan')\n",
    "        print('sisa nyawa kamu', n-1)\n",
    "        break\n",
    "    \n",
    "    for i in range(len(kj)):\n",
    "        for j in range(len(isi)):\n",
    "            if kj[i] == isi[j]:\n",
    "                if i == j: #ada digit dan posisi yg sama\n",
    "                    posisi= posisi + 1\n",
    "                    nomor = nomor + 1\n",
    "                else: #ada digit yang sama\n",
    "                    nomor = nomor + 1\n",
    "    n = n - 1\n",
    "    print(nomor, 'angka benar', posisi, 'di posisi yang benar') #jumlah posisi dan angka yg sama\n",
    "    print('sisa nyawa:', n) #sisa nyawa\n",
    "\n",
    "if n == 0:\n",
    "    print('nyawa habis, coba mainkan lagi dan cek keberuntunganmu')"
   ]
  },
  {
   "cell_type": "markdown",
   "metadata": {},
   "source": [
    "algoritma diatas bertujuan untuk membuat sebuah permainan tebak angka dengan ketentuan:\n",
    "- Program akan meminta input jumlah digit angka yang ingin ditebak, misalnya n.\n",
    "- Program akan mengacak angka dengan n-digit. Digit setiap angka harus berbeda. Karena kalau ada yang sama, informasi jumlah angka yang benar dan posisi yang benar akan kacau. Perhatikan bahwa 0 di depan angka ikut ditebak juga. Misalnya 071, jangan sampai jadi 71.\n",
    "- Kemudian program akan terus meminta input tebakan hingga tebakanmu benar. Pada setiap tebakan, program akan mengeluarkan output berupa jumlah angka yang benar dan jumlah angka di posisi yang benar seperti ilustrasi di atas. HINT: Looping.\n",
    "- Terakhir program akan mengeluarkan output jumlah percobaan selama menebak.  \n",
    "\n",
    "penjelasan algoritma\n",
    "-import random untuk mengeluarkan angka acak\n",
    "-misalkan d adalah jumlah digit dari angka yang ingin ditebak dan n sebagai nyawa yang kita punya\n",
    "-tentukan digit pertama dan terakhirnya\n",
    "-gunakan random dalam membuat angka acak untuk permainannya\n",
    "-jadikan angka string\n",
    "-gunakan while agar program terus berjalan selama syarat terpenuhi\n",
    "-gunakan len untuk mengecek panjang atau banyak digit antara tebakan dan kj sama dan bila beda maka akan keluar kalimat peringatan\n",
    "-gunakan if untuk mengecek apakah semua tebakan berbentuk angka atau tidak dan bila tidak akan keluar kalimat peringatan\n",
    "-gunakan if untuk mengecek apabila tebakan benar maka akan berlanjut mengeluarkan kalimat selamat dengan informasi banyak percobaan dan sisa nyawa\n",
    "-gunakan for untuk di cek posisinya dan ketepatan nomor atau indeks di tebakan dengan di kj \n",
    "-gunakan if untuk syarat bila nyawa atau n sudah 0 maka permainan berakhir "
   ]
  },
  {
   "cell_type": "code",
   "execution_count": null,
   "metadata": {},
   "outputs": [],
   "source": []
  }
 ],
 "metadata": {
  "kernelspec": {
   "display_name": "Python 3",
   "language": "python",
   "name": "python3"
  },
  "language_info": {
   "codemirror_mode": {
    "name": "ipython",
    "version": 3
   },
   "file_extension": ".py",
   "mimetype": "text/x-python",
   "name": "python",
   "nbconvert_exporter": "python",
   "pygments_lexer": "ipython3",
   "version": "3.8.8"
  }
 },
 "nbformat": 4,
 "nbformat_minor": 4
}
